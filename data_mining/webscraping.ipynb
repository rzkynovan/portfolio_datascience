{
 "cells": [
  {
   "cell_type": "code",
   "execution_count": 1,
   "metadata": {},
   "outputs": [],
   "source": [
    "from selenium import webdriver\n",
    "from selenium.webdriver.common.by import By\n",
    "import time"
   ]
  },
  {
   "cell_type": "markdown",
   "metadata": {},
   "source": [
    "<h2 style=\"background: #fff; text-align:center; padding: 12px; color:black;\"><b>Mengambil 5 pencarian untuk Time Series Dataset Di Kaggle.com</b></h2>"
   ]
  },
  {
   "cell_type": "code",
   "execution_count": 2,
   "metadata": {},
   "outputs": [
    {
     "name": "stdout",
     "output_type": "stream",
     "text": [
      "Hasil Pencarian untuk 'time series dataset' di www.kaggle.com:\n",
      "- Worst three time series of the dataset\n",
      "---------------\n",
      "- Airline Passenger Prediction using Time Series Analysis dataset\n",
      "---------------\n",
      "- Time Series Analysis-for Lutkephol-Investment-Income Dataset\n",
      "Notebook\n",
      "---------------\n",
      "- Power Demand Time-Series\n",
      "Dataset\n",
      "---------------\n",
      "- Promotion dataset to be used with Airline Passenger Dataset for Time Series Model\n",
      "---------------\n"
     ]
    }
   ],
   "source": [
    "# Inisiasi browser \n",
    "browser = webdriver.Chrome() # atau webdriver.Chrome() \n",
    "browser.get('https://www.kaggle.com/search?q=time+series+dataset')\n",
    "\n",
    "import time\n",
    "\n",
    "# Tunggu sebentar agar halaman termuat\n",
    "time.sleep(2)\n",
    "\n",
    "articles = browser.find_elements(By.CSS_SELECTOR, '.MuiListItem-root .sc-epPVmt')\n",
    "print(\"Hasil Pencarian untuk 'time series dataset' di www.kaggle.com:\")\n",
    "for article in articles[:5]:  # Menampilkan 5 artikel pertama\n",
    "    title = article.text\n",
    "    print(f\"- {title}\")\n",
    "    print(\"-\" * 15)\n",
    "\n",
    "# Tutup browser setelah selesai\n",
    "browser.quit()"
   ]
  },
  {
   "cell_type": "markdown",
   "metadata": {},
   "source": [
    "<h2 style=\"background: #fff; text-align:center; padding: 12px; color:black;\"><b>Mengambil 5 pencarian untuk Fufufafa Di kompas.com</b></h2>"
   ]
  },
  {
   "cell_type": "code",
   "execution_count": 3,
   "metadata": {},
   "outputs": [
    {
     "name": "stdout",
     "output_type": "stream",
     "text": [
      "Hasil Pencarian untuk 'fufufafa' di kompas.com:\n",
      "- Ramai-Ramai Bela Gibran terkait Akun Kaskus Fufufafa Halaman all ...\n",
      "---------------\n",
      "- \n",
      "---------------\n",
      "- Projo Tuding Akun Fufufafa Dimunculkan untuk Pecah Belah\n",
      "---------------\n",
      "- \n",
      "---------------\n",
      "- TKN Prabowo soal Akun Fufufafa: Gibran Bilang Bukan Punya Dia ...\n",
      "---------------\n",
      "- \n",
      "---------------\n",
      "- Soal Heboh Akun Fufufafa, Elite Golkar: Itu Ingin Picu Perpecahan\n",
      "---------------\n",
      "- \n",
      "---------------\n",
      "- Menkominfo: Akun Kaskus Fufufafa Bukan Milik Gibran\n",
      "---------------\n"
     ]
    }
   ],
   "source": [
    "# Inisiasi browser \n",
    "browser = webdriver.Chrome() # atau webdriver.Chrome() \n",
    "page = 1\n",
    "browser.get(f'https://search.kompas.com/search/?q=fufufafa&submit=Submit#gsc.tab=0&gsc.q=fufufafa&gsc.page={page}')\n",
    "\n",
    "import time\n",
    "\n",
    "# Tunggu sebentar agar halaman termuat\n",
    "time.sleep(5)\n",
    "\n",
    "articles = browser.find_elements(By.CSS_SELECTOR, 'div.gs-title a.gs-title')\n",
    "print(\"Hasil Pencarian untuk 'fufufafa' di kompas.com:\")\n",
    "for article in articles[:9]:  # Menampilkan 5 artikel pertama\n",
    "    title = article.text\n",
    "    print(f\"- {title}\")\n",
    "    print(\"-\" * 15)\n",
    "\n",
    "# Tutup browser setelah selesai\n",
    "browser.quit()"
   ]
  },
  {
   "cell_type": "markdown",
   "metadata": {},
   "source": [
    "<h2 style=\"background: #fff; text-align:center; padding: 12px; color:black;\"><b>Detail artikel dari judul Ramai-Ramai Bela Gibran terkait Akun Kaskus Fufufafa </b></h2>"
   ]
  },
  {
   "cell_type": "code",
   "execution_count": 5,
   "metadata": {},
   "outputs": [
    {
     "name": "stdout",
     "output_type": "stream",
     "text": [
      "Judul Artikel : Ramai-Ramai Bela Gibran terkait Akun Kaskus Fufufafa\n",
      "JAKARTA, KOMPAS.com – Sejumlah pihak ramai-ramai membela wakil presiden terpilih, Gibran Rakabuming Raka terkait dugaan kepemilikan akun media sosial Kaskus, Fufufafa yang belakangan viral.\n",
      "Akun Fufufafa tersebut menjadi perbincangan warganet karena sering melontarkan komentar berisi hinaan-hinaan kepada presiden terpilih Prabowo Subianto dan keluarganya, sejak bertahun-tahun silam.\n",
      "Banyak warganet mencurigai akun fufufafa itu adalah milik Gibran, berdasarkan petunjuk dalam sejumlah unggahannya.\n",
      "Baca juga: Duduk Perkara Kericuhan di Teluknaga, Berawal dari Kaki Bocah Terlindas Truk Tanah\n",
      "Akan tetapi, putra sulung Presiden Joko Widodo itu tidak mengakuinya.\n",
      "\"Lha mbuh, takono sing nduwe akun (ndak tahu, tanya saja pemilik akunnya),\" ucap Gibran di Solo, Jawa Tengah, Selasa (10/9/2024), dilansir TribunSolo.com.\n",
      "Dibela Menkominfo\n",
      "Mendadak Doktor\n",
      "Artikel Kompas.id\n",
      "Setelah Gibran buka suara, banyak pihak mulai membelanya termasuk Menteri Komunikasi dan Informatika (Menkominfo) Budi Arie Setiadi.\n",
      "Budi Arie mengatakan akun Fufufafa bukan milik Gibran.\n",
      "\"Bukanlah, bukan (Gibran),\" kata Budi saat ditemui di DPR RI, Jakarta, Selasa sore.\n",
      "Baca juga: Menkominfo: Akun Kaskus Fufufafa Bukan Milik Gibran\n",
      "Budi Arie menyampaikan, konten-konten akun itu sudah lama terjadi. Bahkan, Kementerian Komunikasi dan Informatika (Kominfo) sudah mendalaminya.\n",
      "Namun, Budi Arie juga belum tahu pemilik akun itu. Sebab, hal itu masih didalami.\n",
      "\"Kita enggak tahu, tunggu lagi. Tunggu saja entar ada waktunya,\" kata dia.\n",
      "Baca juga: Denny Sumargo Ungkap Alasannya Sebut Suku Saat Datang ke Rumah Farhat Abbas\n",
      "Prabowo tidak memusingkan Fufufafa\n",
      "Prabowo Subianto juga disebut tidak ambil pusing soal ramainya akun Fufufafa di media sosial.\n",
      "Hal ini diungkap Ketua Harian Partai Gerindra Sufmi Dasco Ahmad pada Kamis (12/9/2024) lalu.\n",
      "\"Setahu saya, Pak Prabowo enggak terlalu pusing yang gitu-gitu,\" kata Dasco di Kompleks Parlemen, Jakarta.\n",
      "Baca juga: Gerindra Sebut Prabowo Tak Pusing soal Akun Fufufafa\n",
      "Menurut Dasco, Prabowo maupun Gerindra belum pernah melakukan pembahasan apapun soal akun yang kerap mengunggah komentar negatif terhadap Prabowo beserta keluarganya itu.\n",
      "Wakil Ketua DPR RI ini juga menegaskan hal ini tidak membuat keretakan antara Prabowo dan Gibran.\n",
      "“Jadi akun itu aja enggak sempat dibahas apa-apa, bagaimana kemudian ngebikin keretakan, kan gitu,” ujar Dasco.\n",
      "Publik diminta percaya\n",
      "Baca juga: Farhat Abbas Resmi Laporkan Denny Sumargo atas Dugaan Ujaran Kebencian\n",
      "Pembelaan terhadap Gibran juga disuarakan dari kalangan relawan dan partai politik pendukung Prabowo-Gibran.\n",
      "Politikus Partai Golkar Dave Laksono mengungkapkan, akun Kaskus, Fufufafa, yang diisukan milik Gibran, tidaklah benar.\n",
      "Anggota Komisi I DPR RI ini berpandangan ada yang ingin membuat perpecahan.\n",
      "\"Kan sudah disampaikan di media dan itu sudah cukup bahwa itu bukan Gibran dan itu orang yang ingin memicu perpecahan,\" kata Dave di Kantor Pusat Pimpinan Kolektif (PPK) Kosgoro 1957, Jakarta Selatan.\n",
      "Baca juga: Soal Heboh Akun Fufufafa, Elite Golkar: Itu Ingin Picu Perpecahan\n",
      "Dia menilai unggahan dari akun Fufufafa, yang telah ada sejak lama namun baru viral belakangan ini, dimaksudkan untuk merusak keharmonisan yang ada.\n",
      "Menurut Dave, masalah ini tidak pernah dibahas dalam internal Koalisi Indonesia Maju (KIM).\n",
      "\"Ya itu kan isu dari luar ya jadi ya buat apa ditanggapi karena itu adalah gosip-gosip belaka aja sih kalau bagi saya sih,\" ujar dia.\n",
      "Baca juga: Sempat Dapat Donasi Usai Viral Tinggal di Rumah Mewah Tanpa Listrik dan Air, Sikap Tiko Kini Jadi Sorotan\n",
      "Selanjutnya, Komandan Tim Kampanye Nasional (TKN) Fanta (Pemilih Muda) Prabowo-Gibran, Arief Rosyid Hasan, meminta publik harus percaya bahwa akun tersebut bukan milik Gibran.\n",
      "Arief mengajak masyarakat untuk tidak berprasangka negatif dan berhenti menuding Gibran sebagai pemilik akun Fufufafa.\n",
      "\"Ya kan Mas Gibran sudah sampaikan kan, bahwa itu tidak benar ya. Ya kita kan mesti tabayyun ya. Jadi bangsa ini juga mesti lebih bijak. Apalagi para pengguna medsos dan lain-lain. Karena begitu Mas Gibran sudah bilang bukan, tentu ya kita harus juga percaya,\" ujar Arief di Markas TKN Fanta, Jakarta Pusat.\n",
      "Baca juga: Kronologi Jatam Dicatut Jadi Informan Disertasi Bahlil di UI\n",
      "Upaya adu domba\n",
      "Relawan lainnya juga menuding ada pihak-pihak yang mengadu domba hubungan antara Prabowo Subianto dengan Gibran dan Presiden Joko Widodo.\n",
      "Eks Komandan Relawan TKN Prabowo-Gibran pada Pilpres 2024, Haris Rusly Moti berpandangan, tujuan utama dimunculkannya rumor-rumor tersebut untuk melemahkan konsolidasi pemerintahan Prabowo-Gibran di awal masa pemerintahan baru.\n",
      "“Seperti akun Fufufafa sengaja diviralkan untuk tujuan merenggangkan hubungan baik presiden terpilih Prabowo Subianto dengan Presiden Jokowi dan wapres terpilih Gibran Rakabuming Raka,” kata\n",
      "Baca juga: Heboh soal Akun Fufufafa, TKN Tuding Ada yang Adu Domba Prabowo dengan Jokowi-Gibran\n",
      "Akan tetapi, Haris meyakini upaya tersebut gagal. Sebab, Haris meyakini Prabowo dan Gibran hanya melihat rumor yang beredar sebagai hiburan.\n",
      "“Saya cukup yakin upaya adu domba yang dilakukan dengan menebar rumor dan intrik halus seperti itu Insya Allah menuai hasil tangan hampa, gagal,” ucap dia.\n",
      "Hal senada juga disampaikan Relawan Pro Jokowi (Projo) yang menuding, munculnya akun Kasus Fufufafa adalah bentuk politik pecah belah untuk merenggangkan hubungan Prabowo dengan keluarga Jokowi.\n",
      "Bendahara Umum Relawan Projo Panel Barus pun mengeklaim, hubungan Jokowi, Prabowo, dan Gibran sama sekali tidak terganggu dengan cuitan Fufufafa.\n",
      "Baca juga: Projo Tuding Akun Fufufafa Dimunculkan untuk Pecah Belah\n",
      "Publik juga diminta tidak bingung dengan hubungan tiga tokoh tersebut karena ketiganya sama-sama menjaga politik persatuan.\n",
      "\"Saya pikir upaya-upaya itu tidak akan pernah berhasil, upaya-upaya itu pasti akan gagal. Yang terkini adalah isu terkait akun Fufufafa, saya pikir ini juga sama, ini juga upaya dari pihak-pihak yang menjalankan politik pecah belah,\" ujar Panel di DPP Projo, Jakarta Selatan.\n",
      "Simak breaking news dan berita pilihan kami langsung di ponselmu. Pilih saluran andalanmu akses berita Kompas.com WhatsApp Channel : https://www.whatsapp.com/channel/0029VaFPbedBPzjZrk13HO3D. Pastikan kamu sudah install aplikasi WhatsApp ya.\n"
     ]
    }
   ],
   "source": [
    "# Inisiasi browser \n",
    "browser = webdriver.Chrome() # atau webdriver.Chrome() \n",
    "browser.get('https://nasional.kompas.com/read/2024/09/14/06322401/ramai-ramai-bela-gibran-terkait-akun-kaskus-fufufafa?page=all')\n",
    "\n",
    "import time\n",
    "\n",
    "# Tunggu sebentar agar halaman termuat\n",
    "time.sleep(2)\n",
    "title = browser.find_elements(By.CSS_SELECTOR, 'h1.read__title')\n",
    "articles = browser.find_elements(By.CSS_SELECTOR, '.read__content')\n",
    "print(f\"Judul Artikel : {title[0].text}\")\n",
    "print(articles[0].text)\n",
    "# Tutup browser setelah selesai\n",
    "browser.quit()"
   ]
  },
  {
   "cell_type": "code",
   "execution_count": null,
   "metadata": {},
   "outputs": [],
   "source": []
  }
 ],
 "metadata": {
  "kernelspec": {
   "display_name": "base",
   "language": "python",
   "name": "python3"
  },
  "language_info": {
   "codemirror_mode": {
    "name": "ipython",
    "version": 3
   },
   "file_extension": ".py",
   "mimetype": "text/x-python",
   "name": "python",
   "nbconvert_exporter": "python",
   "pygments_lexer": "ipython3",
   "version": "3.11.7"
  }
 },
 "nbformat": 4,
 "nbformat_minor": 2
}
