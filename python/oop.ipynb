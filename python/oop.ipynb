{
 "cells": [
  {
   "cell_type": "code",
   "execution_count": 1,
   "metadata": {},
   "outputs": [
    {
     "name": "stdout",
     "output_type": "stream",
     "text": [
      "True\n",
      "False\n"
     ]
    }
   ],
   "source": [
    "class Robot:\n",
    "    pass\n",
    "\n",
    "x = Robot()\n",
    "y = Robot()\n",
    "z = y\n",
    "print(y == z)\n",
    "print(y == x)"
   ]
  },
  {
   "cell_type": "code",
   "execution_count": 3,
   "metadata": {},
   "outputs": [
    {
     "name": "stdout",
     "output_type": "stream",
     "text": [
      "<__main__.Robot object at 0x110dfe610>\n",
      "Marvin\n",
      "1993\n",
      "{'name': 'Marvin', 'build_year': '1979'}\n",
      "Contoh fungsi pertama\n"
     ]
    }
   ],
   "source": [
    "# Menambahkan Atribut\n",
    "# Bad practice , tapi dapat dilakukan di Python\n",
    "# Menambahkan property ke object\n",
    "\n",
    "def fungsi_1(x):\n",
    "    return x**2 + 1\n",
    "\n",
    "\n",
    "x.name = \"Marvin\"\n",
    "x.build_year = \"1979\"\n",
    "y.name = \"Caliban\"\n",
    "y.build_year = \"1993\"\n",
    "fungsi_1.keterangan = 'Contoh fungsi pertama' #bahkan fungsi adalah object\n",
    "\n",
    "print(x, x.name, y.build_year, x.__dict__, fungsi_1.keterangan, sep='\\n')"
   ]
  },
  {
   "cell_type": "code",
   "execution_count": 4,
   "metadata": {},
   "outputs": [
    {
     "name": "stdout",
     "output_type": "stream",
     "text": [
      "<class '__main__.Robot'>\n"
     ]
    }
   ],
   "source": [
    "# Menambahkan Method\n",
    "class Robot:\n",
    "    def beriSalam(self):\n",
    "        print('Assalamualaikum')\n",
    "gundam = Robot()\n",
    "print(type(gundam))"
   ]
  },
  {
   "cell_type": "code",
   "execution_count": 5,
   "metadata": {},
   "outputs": [
    {
     "name": "stdout",
     "output_type": "stream",
     "text": [
      "Assalamualaikum\n"
     ]
    }
   ],
   "source": [
    "gundam.beriSalam()"
   ]
  },
  {
   "cell_type": "code",
   "execution_count": 6,
   "metadata": {},
   "outputs": [
    {
     "data": {
      "text/plain": [
       "'Hi asep'"
      ]
     },
     "execution_count": 6,
     "metadata": {},
     "output_type": "execute_result"
    }
   ],
   "source": [
    "class Robot:\n",
    "    def sapa(self, nama = ''):\n",
    "        return \"Hi \" + nama\n",
    "    def beriSalam(self):\n",
    "        print(\"Assalamualaikum\")\n",
    "\n",
    "gundam = Robot()\n",
    "x = gundam.sapa('asep')\n",
    "x"
   ]
  },
  {
   "cell_type": "markdown",
   "metadata": {},
   "source": [
    "## Initial Atribut"
   ]
  },
  {
   "cell_type": "code",
   "execution_count": 1,
   "metadata": {},
   "outputs": [
    {
     "name": "stdout",
     "output_type": "stream",
     "text": [
      "Assalamualaikum\n"
     ]
    }
   ],
   "source": [
    "class Robot:\n",
    "# __init__ akan dijalankan setiap object dibuat\n",
    "    def __init__(self, tipe, tahun =2020):\n",
    "        self.tipe = tipe\n",
    "        self.tahun_produksi = tahun\n",
    "    def sapa(self, nama = ''):\n",
    "        return \"Hi \" + nama\n",
    "    def beriSalam(self):\n",
    "        print(\"Assalamualaikum\")\n",
    "\n",
    "Android17 = Robot(\"dbz\", tahun=1997)\n",
    "Android18 = Robot(\"dbz\")\n",
    "\n",
    "# print(Android17.beriSalam())\n",
    "Robot.beriSalam(\"OK\")\n",
    "\n",
    "\n",
    "# print(Android17.tipe)\n"
   ]
  },
  {
   "cell_type": "code",
   "execution_count": null,
   "metadata": {},
   "outputs": [],
   "source": []
  }
 ],
 "metadata": {
  "kernelspec": {
   "display_name": "base",
   "language": "python",
   "name": "python3"
  },
  "language_info": {
   "codemirror_mode": {
    "name": "ipython",
    "version": 3
   },
   "file_extension": ".py",
   "mimetype": "text/x-python",
   "name": "python",
   "nbconvert_exporter": "python",
   "pygments_lexer": "ipython3",
   "version": "3.11.7"
  }
 },
 "nbformat": 4,
 "nbformat_minor": 2
}
