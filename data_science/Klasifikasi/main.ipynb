{
 "cells": [
  {
   "cell_type": "code",
   "execution_count": 44,
   "id": "initial_id",
   "metadata": {
    "collapsed": true,
    "ExecuteTime": {
     "end_time": "2024-09-11T13:55:21.267019Z",
     "start_time": "2024-09-11T13:55:21.264900Z"
    }
   },
   "outputs": [],
   "source": [
    "import csv\n",
    "\n",
    "import numpy as np\n",
    "import pandas as pd"
   ]
  },
  {
   "cell_type": "code",
   "outputs": [],
   "source": [
    "train_path = './datasets/TrainSet.csv'\n",
    "test_path = './datasets/TestSet.csv'\n",
    "submit_path = './datasets/Submission.csv'"
   ],
   "metadata": {
    "collapsed": false,
    "ExecuteTime": {
     "end_time": "2024-09-11T13:55:21.825501Z",
     "start_time": "2024-09-11T13:55:21.822246Z"
    }
   },
   "id": "4533d2934df30087",
   "execution_count": 45
  },
  {
   "cell_type": "code",
   "outputs": [],
   "source": [
    "test = pd.read_csv(test_path, encoding='iso-8859-1', sep=';')\n",
    "train = pd.read_csv(train_path, encoding='iso-8859-1', sep=';')"
   ],
   "metadata": {
    "collapsed": false,
    "ExecuteTime": {
     "end_time": "2024-09-11T13:55:22.295860Z",
     "start_time": "2024-09-11T13:55:22.233414Z"
    }
   },
   "id": "5afae77121649f19",
   "execution_count": 46
  },
  {
   "cell_type": "code",
   "outputs": [
    {
     "data": {
      "text/plain": "   ID              time temperature_2m  relative_humidity_2m dew_point_2m  \\\n0   1  2022-01-01T00:00            NaN                  91.0         20,7   \n1   2  2022-01-01T01:00           22,2                  89.0         20,3   \n2   3  2022-01-01T02:00            NaN                  87.0         20,2   \n3   4  2022-01-01T03:00           22,5                  86.0         20,1   \n4   5  2022-01-01T04:00           22,7                  84.0         19,9   \n\n  apparent_temperature precipitation pressure_msl surface_pressure  \\\n0                 25,7           0,1       1011,4            987,2   \n1                 25,5             0       1010,9            986,7   \n2                 25,4             0         1010            985,8   \n3                 25,1             0         1010            985,8   \n4                 25,6             0       1009,8            985,7   \n\n   cloud_cover  ...  soil_moisture_100_to_255cm  shortwave_radiation  \\\n0         52.0  ...                       0,323                    0   \n1          NaN  ...                       0,323                    0   \n2         42.0  ...                       0,323                    0   \n3         43.0  ...                       0,323                    0   \n4          NaN  ...                       0,323                    0   \n\n   direct_radiation diffuse_radiation direct_normal_irradiance  \\\n0                 0                 0                        0   \n1                 0                 0                        0   \n2                 0                 0                        0   \n3                 0                 0                        0   \n4                 0                 0                        0   \n\n  global_tilted_irradiance  terrestrial_radiation  is_day sunshine_duration  \\\n0                        0                      0       0                 0   \n1                        0                      0       0                 0   \n2                        0                      0       0                 0   \n3                        0                      0       0                 0   \n4                        0                    NaN       0                 0   \n\n  electricity_shutdown  \n0                  0.0  \n1                  0.0  \n2                  0.0  \n3                  0.0  \n4                  0.0  \n\n[5 rows x 36 columns]",
      "text/html": "<div>\n<style scoped>\n    .dataframe tbody tr th:only-of-type {\n        vertical-align: middle;\n    }\n\n    .dataframe tbody tr th {\n        vertical-align: top;\n    }\n\n    .dataframe thead th {\n        text-align: right;\n    }\n</style>\n<table border=\"1\" class=\"dataframe\">\n  <thead>\n    <tr style=\"text-align: right;\">\n      <th></th>\n      <th>ID</th>\n      <th>time</th>\n      <th>temperature_2m</th>\n      <th>relative_humidity_2m</th>\n      <th>dew_point_2m</th>\n      <th>apparent_temperature</th>\n      <th>precipitation</th>\n      <th>pressure_msl</th>\n      <th>surface_pressure</th>\n      <th>cloud_cover</th>\n      <th>...</th>\n      <th>soil_moisture_100_to_255cm</th>\n      <th>shortwave_radiation</th>\n      <th>direct_radiation</th>\n      <th>diffuse_radiation</th>\n      <th>direct_normal_irradiance</th>\n      <th>global_tilted_irradiance</th>\n      <th>terrestrial_radiation</th>\n      <th>is_day</th>\n      <th>sunshine_duration</th>\n      <th>electricity_shutdown</th>\n    </tr>\n  </thead>\n  <tbody>\n    <tr>\n      <th>0</th>\n      <td>1</td>\n      <td>2022-01-01T00:00</td>\n      <td>NaN</td>\n      <td>91.0</td>\n      <td>20,7</td>\n      <td>25,7</td>\n      <td>0,1</td>\n      <td>1011,4</td>\n      <td>987,2</td>\n      <td>52.0</td>\n      <td>...</td>\n      <td>0,323</td>\n      <td>0</td>\n      <td>0</td>\n      <td>0</td>\n      <td>0</td>\n      <td>0</td>\n      <td>0</td>\n      <td>0</td>\n      <td>0</td>\n      <td>0.0</td>\n    </tr>\n    <tr>\n      <th>1</th>\n      <td>2</td>\n      <td>2022-01-01T01:00</td>\n      <td>22,2</td>\n      <td>89.0</td>\n      <td>20,3</td>\n      <td>25,5</td>\n      <td>0</td>\n      <td>1010,9</td>\n      <td>986,7</td>\n      <td>NaN</td>\n      <td>...</td>\n      <td>0,323</td>\n      <td>0</td>\n      <td>0</td>\n      <td>0</td>\n      <td>0</td>\n      <td>0</td>\n      <td>0</td>\n      <td>0</td>\n      <td>0</td>\n      <td>0.0</td>\n    </tr>\n    <tr>\n      <th>2</th>\n      <td>3</td>\n      <td>2022-01-01T02:00</td>\n      <td>NaN</td>\n      <td>87.0</td>\n      <td>20,2</td>\n      <td>25,4</td>\n      <td>0</td>\n      <td>1010</td>\n      <td>985,8</td>\n      <td>42.0</td>\n      <td>...</td>\n      <td>0,323</td>\n      <td>0</td>\n      <td>0</td>\n      <td>0</td>\n      <td>0</td>\n      <td>0</td>\n      <td>0</td>\n      <td>0</td>\n      <td>0</td>\n      <td>0.0</td>\n    </tr>\n    <tr>\n      <th>3</th>\n      <td>4</td>\n      <td>2022-01-01T03:00</td>\n      <td>22,5</td>\n      <td>86.0</td>\n      <td>20,1</td>\n      <td>25,1</td>\n      <td>0</td>\n      <td>1010</td>\n      <td>985,8</td>\n      <td>43.0</td>\n      <td>...</td>\n      <td>0,323</td>\n      <td>0</td>\n      <td>0</td>\n      <td>0</td>\n      <td>0</td>\n      <td>0</td>\n      <td>0</td>\n      <td>0</td>\n      <td>0</td>\n      <td>0.0</td>\n    </tr>\n    <tr>\n      <th>4</th>\n      <td>5</td>\n      <td>2022-01-01T04:00</td>\n      <td>22,7</td>\n      <td>84.0</td>\n      <td>19,9</td>\n      <td>25,6</td>\n      <td>0</td>\n      <td>1009,8</td>\n      <td>985,7</td>\n      <td>NaN</td>\n      <td>...</td>\n      <td>0,323</td>\n      <td>0</td>\n      <td>0</td>\n      <td>0</td>\n      <td>0</td>\n      <td>0</td>\n      <td>NaN</td>\n      <td>0</td>\n      <td>0</td>\n      <td>0.0</td>\n    </tr>\n  </tbody>\n</table>\n<p>5 rows × 36 columns</p>\n</div>"
     },
     "execution_count": 47,
     "metadata": {},
     "output_type": "execute_result"
    }
   ],
   "source": [
    "train.head(5)"
   ],
   "metadata": {
    "collapsed": false,
    "ExecuteTime": {
     "end_time": "2024-09-11T13:55:22.995402Z",
     "start_time": "2024-09-11T13:55:22.988774Z"
    }
   },
   "id": "389504b5252e7f50",
   "execution_count": 47
  },
  {
   "cell_type": "code",
   "outputs": [
    {
     "data": {
      "text/plain": "ID                                  0\ntime                                0\ntemperature_2m                   8021\nrelative_humidity_2m             1759\ndew_point_2m                        0\napparent_temperature                0\nprecipitation                    3542\npressure_msl                        0\nsurface_pressure                 1814\ncloud_cover                      4351\ncloud_cover_low                  3541\ncloud_cover_mid                  2624\ncloud_cover_high                    0\nvapour_pressure_deficit          1784\nwind_speed_10m                   3492\nwind_speed_100m                     0\nwind_direction_10m               1699\nwind_direction_100m              1796\nwind_gusts_10m                   2604\nsoil_temperature_0_to_7cm           0\nsoil_temperature_7_to_28cm          0\nsoil_temperature_28_to_100cm        0\nsoil_temperature_100_to_255cm       0\nsoil_moisture_0_to_7cm              0\nsoil_moisture_7_to_28cm             0\nsoil_moisture_28_to_100cm        1727\nsoil_moisture_100_to_255cm          0\nshortwave_radiation                 0\ndirect_radiation                    0\ndiffuse_radiation                   0\ndirect_normal_irradiance            0\nglobal_tilted_irradiance            0\nterrestrial_radiation            1723\nis_day                              0\nsunshine_duration                1690\nelectricity_shutdown             3531\ndtype: int64"
     },
     "execution_count": 48,
     "metadata": {},
     "output_type": "execute_result"
    }
   ],
   "source": [
    "train.isna().sum()"
   ],
   "metadata": {
    "collapsed": false,
    "ExecuteTime": {
     "end_time": "2024-09-11T13:55:27.006110Z",
     "start_time": "2024-09-11T13:55:27.002354Z"
    }
   },
   "id": "7a6fc6a3ed5abeb2",
   "execution_count": 48
  },
  {
   "cell_type": "code",
   "outputs": [
    {
     "data": {
      "text/plain": "                 ID  relative_humidity_2m   cloud_cover  cloud_cover_low  \\\ncount  17520.000000          15761.000000  13169.000000     13979.000000   \nmean    8760.500000             83.758772     56.721087        30.940554   \nstd     5057.732694             10.497241     30.003008        32.993623   \nmin        1.000000             36.000000      0.000000         0.000000   \n25%     4380.750000             79.000000     34.000000         6.000000   \n50%     8760.500000             87.000000     52.000000        18.000000   \n75%    13140.250000             91.000000     88.000000        43.000000   \nmax    17520.000000            100.000000    100.000000       100.000000   \n\n       cloud_cover_mid  cloud_cover_high  wind_direction_10m  \\\ncount     14896.000000      17520.000000        15821.000000   \nmean         21.469723         71.324886          222.388534   \nstd          28.079951         39.079525           97.278743   \nmin           0.000000          0.000000            2.000000   \n25%           2.000000         37.000000          161.000000   \n50%          10.000000         98.000000          230.000000   \n75%          28.000000        100.000000          311.000000   \nmax         100.000000        100.000000          360.000000   \n\n       wind_direction_100m  shortwave_radiation  direct_radiation  \\\ncount         15724.000000         17520.000000      17520.000000   \nmean            216.830832           206.463756        129.469920   \nstd              85.466525           281.248321        208.845787   \nmin               2.000000             0.000000          0.000000   \n25%             153.000000             0.000000          0.000000   \n50%             222.000000             9.000000          0.000000   \n75%             297.000000           397.000000        208.000000   \nmax             360.000000          1010.000000        902.000000   \n\n       diffuse_radiation  global_tilted_irradiance        is_day  \\\ncount       17520.000000              17520.000000  17520.000000   \nmean           76.993836                206.463756      0.505822   \nstd           101.178700                281.248321      0.499980   \nmin             0.000000                  0.000000      0.000000   \n25%             0.000000                  0.000000      0.000000   \n50%             8.000000                  9.000000      1.000000   \n75%           142.000000                397.000000      1.000000   \nmax           481.000000               1010.000000      1.000000   \n\n       electricity_shutdown  \ncount          13989.000000  \nmean               0.009365  \nstd                0.096320  \nmin                0.000000  \n25%                0.000000  \n50%                0.000000  \n75%                0.000000  \nmax                1.000000  ",
      "text/html": "<div>\n<style scoped>\n    .dataframe tbody tr th:only-of-type {\n        vertical-align: middle;\n    }\n\n    .dataframe tbody tr th {\n        vertical-align: top;\n    }\n\n    .dataframe thead th {\n        text-align: right;\n    }\n</style>\n<table border=\"1\" class=\"dataframe\">\n  <thead>\n    <tr style=\"text-align: right;\">\n      <th></th>\n      <th>ID</th>\n      <th>relative_humidity_2m</th>\n      <th>cloud_cover</th>\n      <th>cloud_cover_low</th>\n      <th>cloud_cover_mid</th>\n      <th>cloud_cover_high</th>\n      <th>wind_direction_10m</th>\n      <th>wind_direction_100m</th>\n      <th>shortwave_radiation</th>\n      <th>direct_radiation</th>\n      <th>diffuse_radiation</th>\n      <th>global_tilted_irradiance</th>\n      <th>is_day</th>\n      <th>electricity_shutdown</th>\n    </tr>\n  </thead>\n  <tbody>\n    <tr>\n      <th>count</th>\n      <td>17520.000000</td>\n      <td>15761.000000</td>\n      <td>13169.000000</td>\n      <td>13979.000000</td>\n      <td>14896.000000</td>\n      <td>17520.000000</td>\n      <td>15821.000000</td>\n      <td>15724.000000</td>\n      <td>17520.000000</td>\n      <td>17520.000000</td>\n      <td>17520.000000</td>\n      <td>17520.000000</td>\n      <td>17520.000000</td>\n      <td>13989.000000</td>\n    </tr>\n    <tr>\n      <th>mean</th>\n      <td>8760.500000</td>\n      <td>83.758772</td>\n      <td>56.721087</td>\n      <td>30.940554</td>\n      <td>21.469723</td>\n      <td>71.324886</td>\n      <td>222.388534</td>\n      <td>216.830832</td>\n      <td>206.463756</td>\n      <td>129.469920</td>\n      <td>76.993836</td>\n      <td>206.463756</td>\n      <td>0.505822</td>\n      <td>0.009365</td>\n    </tr>\n    <tr>\n      <th>std</th>\n      <td>5057.732694</td>\n      <td>10.497241</td>\n      <td>30.003008</td>\n      <td>32.993623</td>\n      <td>28.079951</td>\n      <td>39.079525</td>\n      <td>97.278743</td>\n      <td>85.466525</td>\n      <td>281.248321</td>\n      <td>208.845787</td>\n      <td>101.178700</td>\n      <td>281.248321</td>\n      <td>0.499980</td>\n      <td>0.096320</td>\n    </tr>\n    <tr>\n      <th>min</th>\n      <td>1.000000</td>\n      <td>36.000000</td>\n      <td>0.000000</td>\n      <td>0.000000</td>\n      <td>0.000000</td>\n      <td>0.000000</td>\n      <td>2.000000</td>\n      <td>2.000000</td>\n      <td>0.000000</td>\n      <td>0.000000</td>\n      <td>0.000000</td>\n      <td>0.000000</td>\n      <td>0.000000</td>\n      <td>0.000000</td>\n    </tr>\n    <tr>\n      <th>25%</th>\n      <td>4380.750000</td>\n      <td>79.000000</td>\n      <td>34.000000</td>\n      <td>6.000000</td>\n      <td>2.000000</td>\n      <td>37.000000</td>\n      <td>161.000000</td>\n      <td>153.000000</td>\n      <td>0.000000</td>\n      <td>0.000000</td>\n      <td>0.000000</td>\n      <td>0.000000</td>\n      <td>0.000000</td>\n      <td>0.000000</td>\n    </tr>\n    <tr>\n      <th>50%</th>\n      <td>8760.500000</td>\n      <td>87.000000</td>\n      <td>52.000000</td>\n      <td>18.000000</td>\n      <td>10.000000</td>\n      <td>98.000000</td>\n      <td>230.000000</td>\n      <td>222.000000</td>\n      <td>9.000000</td>\n      <td>0.000000</td>\n      <td>8.000000</td>\n      <td>9.000000</td>\n      <td>1.000000</td>\n      <td>0.000000</td>\n    </tr>\n    <tr>\n      <th>75%</th>\n      <td>13140.250000</td>\n      <td>91.000000</td>\n      <td>88.000000</td>\n      <td>43.000000</td>\n      <td>28.000000</td>\n      <td>100.000000</td>\n      <td>311.000000</td>\n      <td>297.000000</td>\n      <td>397.000000</td>\n      <td>208.000000</td>\n      <td>142.000000</td>\n      <td>397.000000</td>\n      <td>1.000000</td>\n      <td>0.000000</td>\n    </tr>\n    <tr>\n      <th>max</th>\n      <td>17520.000000</td>\n      <td>100.000000</td>\n      <td>100.000000</td>\n      <td>100.000000</td>\n      <td>100.000000</td>\n      <td>100.000000</td>\n      <td>360.000000</td>\n      <td>360.000000</td>\n      <td>1010.000000</td>\n      <td>902.000000</td>\n      <td>481.000000</td>\n      <td>1010.000000</td>\n      <td>1.000000</td>\n      <td>1.000000</td>\n    </tr>\n  </tbody>\n</table>\n</div>"
     },
     "execution_count": 49,
     "metadata": {},
     "output_type": "execute_result"
    }
   ],
   "source": [
    "train.describe()"
   ],
   "metadata": {
    "collapsed": false,
    "ExecuteTime": {
     "end_time": "2024-09-11T13:55:27.735603Z",
     "start_time": "2024-09-11T13:55:27.708484Z"
    }
   },
   "id": "4a7b6784b8aeb2e5",
   "execution_count": 49
  },
  {
   "cell_type": "code",
   "outputs": [
    {
     "data": {
      "text/plain": "ID                               17520\ntime                             17520\ntemperature_2m                     164\nrelative_humidity_2m                63\ndew_point_2m                       124\napparent_temperature               205\nprecipitation                      129\npressure_msl                       134\nsurface_pressure                   131\ncloud_cover                        101\ncloud_cover_low                    101\ncloud_cover_mid                    101\ncloud_cover_high                   101\nvapour_pressure_deficit            281\nwind_speed_10m                     198\nwind_speed_100m                    269\nwind_direction_10m                 352\nwind_direction_100m                356\nwind_gusts_10m                     126\nsoil_temperature_0_to_7cm          193\nsoil_temperature_7_to_28cm          74\nsoil_temperature_28_to_100cm        33\nsoil_temperature_100_to_255cm       16\nsoil_moisture_0_to_7cm             341\nsoil_moisture_7_to_28cm            326\nsoil_moisture_28_to_100cm          261\nsoil_moisture_100_to_255cm         137\nshortwave_radiation                975\ndirect_radiation                   820\ndiffuse_radiation                  435\ndirect_normal_irradiance          5224\nglobal_tilted_irradiance           975\nterrestrial_radiation             5732\nis_day                               2\nsunshine_duration                 1314\nelectricity_shutdown                 2\ndtype: int64"
     },
     "execution_count": 50,
     "metadata": {},
     "output_type": "execute_result"
    }
   ],
   "source": [
    "train.nunique()"
   ],
   "metadata": {
    "collapsed": false,
    "ExecuteTime": {
     "end_time": "2024-09-11T13:55:28.299574Z",
     "start_time": "2024-09-11T13:55:28.277915Z"
    }
   },
   "id": "1199fb57bf6f6ae4",
   "execution_count": 50
  },
  {
   "cell_type": "code",
   "outputs": [
    {
     "data": {
      "text/plain": "ID                                 int64\ntime                              object\ntemperature_2m                    object\nrelative_humidity_2m             float64\ndew_point_2m                      object\napparent_temperature              object\nprecipitation                     object\npressure_msl                      object\nsurface_pressure                  object\ncloud_cover                      float64\ncloud_cover_low                  float64\ncloud_cover_mid                  float64\ncloud_cover_high                   int64\nvapour_pressure_deficit           object\nwind_speed_10m                    object\nwind_speed_100m                   object\nwind_direction_10m               float64\nwind_direction_100m              float64\nwind_gusts_10m                    object\nsoil_temperature_0_to_7cm         object\nsoil_temperature_7_to_28cm        object\nsoil_temperature_28_to_100cm      object\nsoil_temperature_100_to_255cm     object\nsoil_moisture_0_to_7cm            object\nsoil_moisture_7_to_28cm           object\nsoil_moisture_28_to_100cm         object\nsoil_moisture_100_to_255cm        object\nshortwave_radiation                int64\ndirect_radiation                   int64\ndiffuse_radiation                  int64\ndirect_normal_irradiance          object\nglobal_tilted_irradiance           int64\nterrestrial_radiation             object\nis_day                             int64\nsunshine_duration                 object\nelectricity_shutdown             float64\ndtype: object"
     },
     "execution_count": 51,
     "metadata": {},
     "output_type": "execute_result"
    }
   ],
   "source": [
    "train.dtypes"
   ],
   "metadata": {
    "collapsed": false,
    "ExecuteTime": {
     "end_time": "2024-09-11T13:55:28.661704Z",
     "start_time": "2024-09-11T13:55:28.658118Z"
    }
   },
   "id": "216af3da8dacd05e",
   "execution_count": 51
  },
  {
   "cell_type": "code",
   "outputs": [],
   "source": [
    "test.to_csv('./datasets/TestClean.csv', index=False)\n"
   ],
   "metadata": {
    "collapsed": false,
    "ExecuteTime": {
     "end_time": "2024-09-12T07:30:32.076150Z",
     "start_time": "2024-09-12T07:30:32.021343Z"
    }
   },
   "id": "a2f739af07963720",
   "execution_count": 54
  },
  {
   "cell_type": "code",
   "outputs": [],
   "source": [],
   "metadata": {
    "collapsed": false,
    "ExecuteTime": {
     "end_time": "2024-09-11T13:55:29.192758Z",
     "start_time": "2024-09-11T13:55:29.189996Z"
    }
   },
   "id": "c2692021134cbdcc",
   "execution_count": 51
  },
  {
   "cell_type": "code",
   "outputs": [],
   "source": [],
   "metadata": {
    "collapsed": false
   },
   "id": "d895d1dd70693452"
  }
 ],
 "metadata": {
  "kernelspec": {
   "display_name": "Python 3",
   "language": "python",
   "name": "python3"
  },
  "language_info": {
   "codemirror_mode": {
    "name": "ipython",
    "version": 2
   },
   "file_extension": ".py",
   "mimetype": "text/x-python",
   "name": "python",
   "nbconvert_exporter": "python",
   "pygments_lexer": "ipython2",
   "version": "2.7.6"
  }
 },
 "nbformat": 4,
 "nbformat_minor": 5
}
